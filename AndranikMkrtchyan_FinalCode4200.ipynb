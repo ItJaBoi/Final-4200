{
 "cells": [
  {
   "cell_type": "markdown",
   "metadata": {},
   "source": [
    "# Determining Dynamical Mass of Protostars\n",
    "We need to determine our values for the Keplerian rotation formula represented by: \n",
    "\n",
    "v^2 = GM/r.\n",
    "\n",
    "Where v is velocity of the system, G is the gravitational constant, M is the mass of the protostar, and r is the radius from the center of the star to the edge of the disk.\n",
    "\n",
    "In order to find v we need to apply the Doppler shift formula of \n",
    "\n",
    "(λ-λ0)/λ0 = v/c\n",
    "\n",
    "Where λ is the observed wavelength, λ0 is actual wavelength, v is velocity, and c is the speed of light."
   ]
  },
  {
   "cell_type": "markdown",
   "metadata": {},
   "source": [
    "## Finding our values\n",
    "We can find our values from certain archived data from ALMA and also from researcher's papers on each protostar that has been observed.\n",
    "\n",
    "The archived data provides us with .fits files that we can open and observe with SAO/DS9 to find the wavelength we want and the range of radii we will be observing.\n",
    "\n",
    "When using these fits files, we look at each slice and find the one where we can see the protostar and also the farthest a disk can get while making sure it is not an outflow jet as this can change the radius enough to give a wrong final mass even if the difference is off by 1 pixel."
   ]
  },
  {
   "cell_type": "markdown",
   "metadata": {},
   "source": [
    "## Objects\n",
    "So that we can have more objects to compare to, we can have multiple objects using the same equation and the changes done to the code would be the frequencies used and the radii we want for the object."
   ]
  },
  {
   "cell_type": "code",
   "execution_count": 1,
   "metadata": {
    "collapsed": true
   },
   "outputs": [],
   "source": [
    "#Import our packages so that we can do stuff\n",
    "import numpy as np\n",
    "import matplotlib.pyplot as plt\n",
    "%matplotlib inline"
   ]
  },
  {
   "cell_type": "markdown",
   "metadata": {},
   "source": [
    "### Setting base values\n",
    "We set our base values here to convert frequency into wavelength for the Doppler formula"
   ]
  },
  {
   "cell_type": "code",
   "execution_count": 2,
   "metadata": {
    "collapsed": false
   },
   "outputs": [],
   "source": [
    "#The slides are given in frequency. In order to change this, we have to convert the frequency to wavelength and then continue.\n",
    "c = 299792.458 #m/s #speed of light\n",
    "f_B335 = 2.19554e+11 #Hz\n",
    "f_L328 = 2.19557157534e+11\n",
    "f_BHR71 = 2.19564e+11\n",
    "#L1527 is given in v_rad"
   ]
  },
  {
   "cell_type": "markdown",
   "metadata": {},
   "source": [
    "### Wavelength values\n",
    "Now we get to set our wavelength for observed and for real wavelength. By doing this we can then find the velocity of the system."
   ]
  },
  {
   "cell_type": "code",
   "execution_count": 3,
   "metadata": {
    "collapsed": false
   },
   "outputs": [
    {
     "name": "stdout",
     "output_type": "stream",
     "text": [
      "299792.458 299792.458 299792.458\n"
     ]
    }
   ],
   "source": [
    "lmd_B335 = c/f_B335 #convert to wavelength\n",
    "lmd_L328 = c/f_L328\n",
    "lmd_BHR71 = c/f_BHR71\n",
    "lmd0_B335 = 2.19555e+11 #the center should be most apparent around the middle of the set of frequencies I chose\n",
    "lmd0_L328 = 2.19555924657e+11\n",
    "lmd0_BHR71 = 2.19565e+11\n",
    "v_B335 = abs(((lmd_B335-lmd0_B335)/(lmd0_B335))*c) #use Doppler Shift formula\n",
    "v_L328 = abs(((lmd_L328-lmd0_L328)/(lmd0_L328))*c)\n",
    "v_BHR71 = abs(((lmd_BHR71-lmd0_BHR71)/(lmd0_BHR71))*c)\n",
    "v_L1527 = 299792.458\n",
    "print (v_L328,v_B335,v_BHR71)"
   ]
  },
  {
   "cell_type": "markdown",
   "metadata": {},
   "source": [
    "### Pixel data\n",
    "We take our pixel data that we determine where the brightest point is to say that is the center of the protostar. The disk pixel data is where we assume is the farthest point of interest for where the disk is while taking care to make sure it's not an outflow jet."
   ]
  },
  {
   "cell_type": "code",
   "execution_count": 4,
   "metadata": {
    "collapsed": false
   },
   "outputs": [],
   "source": [
    "#The numbers were achieved by finding amount of pixels between the center of the protostar and the edge of the disk\n",
    "ps_pix_B335 = [355,348] #pixel location of the star's center\n",
    "ps_pix_L1527 = [185,178]\n",
    "ps_pix_L328 = [347,348]\n",
    "ps_pix_BHR71 = [203,223]\n",
    "diskx_B335 = 358 #x value of where the disk edge may be\n",
    "disky_B335 = 330 #y value of where the disk edge may be\n",
    "diskx_L1527 = 183\n",
    "disky_L1527 = 196\n",
    "diskx_L328 = 344\n",
    "disky_L328 = 339 \n",
    "diskx_BHR71 = 225\n",
    "disky_BHR71 = 231"
   ]
  },
  {
   "cell_type": "markdown",
   "metadata": {},
   "source": [
    "### Radius of the disk\n",
    "We have to use the pixel data and convert it into astronomical units (1 AU is distance from Earth to Sun)."
   ]
  },
  {
   "cell_type": "code",
   "execution_count": 5,
   "metadata": {
    "collapsed": false
   },
   "outputs": [
    {
     "name": "stdout",
     "output_type": "stream",
     "text": [
      "154.39820675772114 456.2071897723665 431.0363325753411 332.03915431767985\n"
     ]
    }
   ],
   "source": [
    "r_pix_B335 = (((disky_B335-348)**2)+((diskx_B335-355)**2))**0.5 #distance formula\n",
    "r_pix_L1527 = (((disky_L1527-178)**2)+((diskx_L1527-185)**2))**0.5\n",
    "r_pix_L328 = (((disky_L328-348)**2)+((diskx_L328-347)**2))**0.5\n",
    "r_pix_BHR71 = (((disky_BHR71-223)**2)+((diskx_BHR71-203)**2))**0.5\n",
    "rarcsec_B335 = 0.1*r_pix_B335 #in the data file, the cell value scale has to be multipled by 0.1\n",
    "rarcsec_L1527 = 0.17*r_pix_L1527\n",
    "rarcsec_L328 = 0.075*r_pix_L328\n",
    "rarcsec_BHR71 = 0.2*r_pix_L328\n",
    "rAU_B335 = rarcsec_B335*250 #from the B335 document, the distance between Earth and this star is 250Pc\n",
    "rAU_L1527 = rarcsec_L1527*140\n",
    "rAU_L328 = rarcsec_L328*217\n",
    "rAU_BHR71 = rarcsec_BHR71*175\n",
    "print (rAU_L328, rAU_B335,rAU_L1527,rAU_BHR71) #potential radius"
   ]
  },
  {
   "cell_type": "markdown",
   "metadata": {},
   "source": [
    "### Velocity and radius in Pc\n",
    "Convert the velocity appropriate factor of m/s while also squaring it so that it can line up with the Keplerian formula. Also convert the AU we found previously into Parsecs as it works with our equation. "
   ]
  },
  {
   "cell_type": "code",
   "execution_count": 6,
   "metadata": {
    "collapsed": true
   },
   "outputs": [],
   "source": [
    "vf_B335 = (v_B335/1000)**2 #convert and square it\n",
    "vf_L328 = (v_L328/1000)**2\n",
    "vf_L1527 = (v_L1527/1000)**2\n",
    "vf_BHR71 = (v_BHR71/1000)**2\n",
    "r_Pc_B335 = rAU_B335*1.496e+11 #convert AU to parsec\n",
    "r_Pc_L328 = rAU_L328*1.496e+11\n",
    "r_Pc_L1527 = rAU_L1527*1.496e+11\n",
    "r_Pc_BHR71 = rAU_BHR71*1.496e+11"
   ]
  },
  {
   "cell_type": "code",
   "execution_count": 7,
   "metadata": {
    "collapsed": false
   },
   "outputs": [
    {
     "name": "stdout",
     "output_type": "stream",
     "text": [
      "9.190596865482395e+28 3.110454431399159e+28 8.683513227953761e+28 6.689149314836901e+28\n"
     ]
    }
   ],
   "source": [
    "G = 6.67408e-11 #m^3 kg^-1 s^-2 #Gravitational constant\n",
    "M_B335 = (r_Pc_B335*vf_B335)/G\n",
    "M_L328 = (r_Pc_L328*vf_L328)/G\n",
    "M_L1527 = (r_Pc_L1527*vf_L1527)/G\n",
    "M_BHR71 = (r_Pc_BHR71*vf_BHR71)/G\n",
    "print (M_B335,M_L328,M_L1527,M_BHR71)"
   ]
  },
  {
   "cell_type": "code",
   "execution_count": 8,
   "metadata": {
    "collapsed": false
   },
   "outputs": [
    {
     "data": {
      "image/png": "[encoded data removed]",
      "text/plain": [
       "<matplotlib.figure.Figure at 0x14cd8f0c320>"
      ]
     },
     "metadata": {},
     "output_type": "display_data"
    }
   ],
   "source": [
    "plt.figure(figsize = (15,7))\n",
    "plt.plot(rAU_B335,M_B335,'ro',label='Mass B335')\n",
    "plt.plot(rAU_L328,M_L328,'go',label='Mass L328')\n",
    "plt.plot(rAU_L1527,M_L1527,'yo',label='Mass L1527')\n",
    "plt.plot(rAU_BHR71,M_BHR71,'bo',label='Mass BHR71')\n",
    "plt.ylabel('Masses of the Protostar [kg]') #y-axis label\n",
    "plt.xlabel('Radii between dust particles and star [AU]') #x-axis label\n",
    "plt.title('Protostellar Masses') #title\n",
    "plt.legend(loc='best')\n",
    "plt.show()"
   ]
  },
  {
   "cell_type": "markdown",
   "metadata": {},
   "source": [
    "## Conclusion\n",
    "After plotting 4 different protostars, we can start seeing a trend in that protostars seem to form mass in a near linear trend. This can mean a few things but more importantly is that the mass accumulation of protostars over time seems to be linear. This may only apply to Class I protostars only as that was the only focus of my research. This can also help accurately predict what type of star a protostar could be after they finish forming well before it finishes."
   ]
  }
 ],
 "metadata": {
  "anaconda-cloud": {},
  "kernelspec": {
   "display_name": "Python [Root]",
   "language": "python",
   "name": "Python [Root]"
  },
  "language_info": {
   "codemirror_mode": {
    "name": "ipython",
    "version": 3
   },
   "file_extension": ".py",
   "mimetype": "text/x-python",
   "name": "python",
   "nbconvert_exporter": "python",
   "pygments_lexer": "ipython3",
   "version": "3.5.2"
  }
 },
 "nbformat": 4,
 "nbformat_minor": 0
}
